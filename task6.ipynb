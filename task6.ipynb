{
 "cells": [
  {
   "cell_type": "markdown",
   "id": "644e63f7-92db-47c8-a1f8-3ab44e1c4a54",
   "metadata": {},
   "source": [
    "# Завдання 6"
   ]
  },
  {
   "cell_type": "code",
   "execution_count": 1,
   "id": "7d2e23b9-dfde-4cc2-9314-4642b920d557",
   "metadata": {},
   "outputs": [
    {
     "name": "stdout",
     "output_type": "stream",
     "text": [
      "Greedy Algorithm:\n",
      "Selected Items: ['cola', 'potato', 'pepsi', 'hot-dog']\n",
      "Total Calories: 870\n",
      "\n",
      "Dynamic Programming:\n",
      "Selected Items: ['potato', 'cola', 'pepsi', 'pizza']\n",
      "Total Calories: 970\n"
     ]
    }
   ],
   "source": [
    "def greedy_algorithm(items, budget):\n",
    "    # Сортуємо список їжі за співвідношенням калорій до вартості у спадному порядку\n",
    "    sorted_items = sorted(items.items(), key=lambda x: x[1][\"calories\"] / x[1][\"cost\"], reverse=True)\n",
    "    \n",
    "    total_calories = 0\n",
    "    total_cost = 0\n",
    "    selected_items = []\n",
    "    \n",
    "    for item, info in sorted_items:\n",
    "        if total_cost + info[\"cost\"] <= budget:\n",
    "            total_cost += info[\"cost\"]\n",
    "            total_calories += info[\"calories\"]\n",
    "            selected_items.append(item)\n",
    "    \n",
    "    return selected_items, total_calories\n",
    "\n",
    "def dynamic_programming(items, budget):\n",
    "    # Ініціалізуємо матрицю для зберігання оптимальних значень калорій\n",
    "    dp = [[0] * (budget + 1) for _ in range(len(items) + 1)]\n",
    "    \n",
    "    # Заповнюємо матрицю\n",
    "    for i, (item, info) in enumerate(items.items(), 1):\n",
    "        for j in range(1, budget + 1):\n",
    "            if info[\"cost\"] > j:\n",
    "                dp[i][j] = dp[i - 1][j]\n",
    "            else:\n",
    "                dp[i][j] = max(dp[i - 1][j], dp[i - 1][j - info[\"cost\"]] + info[\"calories\"])\n",
    "    \n",
    "    # Відновлюємо оптимальний набір страв\n",
    "    selected_items = []\n",
    "    i = len(items)\n",
    "    j = budget\n",
    "    while i > 0 and j > 0:\n",
    "        if dp[i][j] != dp[i - 1][j]:\n",
    "            selected_items.append(list(items.keys())[i - 1])\n",
    "            j -= items[selected_items[-1]][\"cost\"]\n",
    "        i -= 1\n",
    "    \n",
    "    return selected_items, dp[len(items)][budget]\n",
    "\n",
    "items = {\n",
    "    \"pizza\": {\"cost\": 50, \"calories\": 300},\n",
    "    \"hamburger\": {\"cost\": 40, \"calories\": 250},\n",
    "    \"hot-dog\": {\"cost\": 30, \"calories\": 200},\n",
    "    \"pepsi\": {\"cost\": 10, \"calories\": 100},\n",
    "    \"cola\": {\"cost\": 15, \"calories\": 220},\n",
    "    \"potato\": {\"cost\": 25, \"calories\": 350}\n",
    "}\n",
    "\n",
    "budget = 100\n",
    "\n",
    "greedy_selected_items, greedy_total_calories = greedy_algorithm(items, budget)\n",
    "dynamic_selected_items, dynamic_total_calories = dynamic_programming(items, budget)\n",
    "\n",
    "print(\"Greedy Algorithm:\")\n",
    "print(\"Selected Items:\", greedy_selected_items)\n",
    "print(\"Total Calories:\", greedy_total_calories)\n",
    "\n",
    "print(\"\\nDynamic Programming:\")\n",
    "print(\"Selected Items:\", dynamic_selected_items)\n",
    "print(\"Total Calories:\", dynamic_total_calories)\n"
   ]
  }
 ],
 "metadata": {
  "kernelspec": {
   "display_name": "Python 3 (ipykernel)",
   "language": "python",
   "name": "python3"
  },
  "language_info": {
   "codemirror_mode": {
    "name": "ipython",
    "version": 3
   },
   "file_extension": ".py",
   "mimetype": "text/x-python",
   "name": "python",
   "nbconvert_exporter": "python",
   "pygments_lexer": "ipython3",
   "version": "3.10.12"
  }
 },
 "nbformat": 4,
 "nbformat_minor": 5
}
