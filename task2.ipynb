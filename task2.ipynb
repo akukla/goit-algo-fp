{
 "cells": [
  {
   "cell_type": "markdown",
   "id": "33d28d59-2f88-4054-8a7c-7a0bb7df4e8b",
   "metadata": {},
   "source": [
    "# Завдання 2\n"
   ]
  },
  {
   "cell_type": "code",
   "execution_count": 1,
   "id": "fd4da6f7-82f7-4946-bfc8-fe1f06fb7b80",
   "metadata": {},
   "outputs": [
    {
     "name": "stdin",
     "output_type": "stream",
     "text": [
      "Введіть рівень рекурсії для фрактала дерево Піфагора:  8\n"
     ]
    }
   ],
   "source": [
    "import turtle\n",
    "\n",
    "def draw_pifagor_tree(branch_len, level):\n",
    "    if level > 0:\n",
    "        # Відображення гілки\n",
    "        turtle.forward(branch_len)\n",
    "        turtle.right(45)\n",
    "\n",
    "        # Рекурсивний виклик для правої гілки\n",
    "        draw_pifagor_tree(0.7 * branch_len, level - 1)\n",
    "        turtle.left(90)\n",
    "\n",
    "        # Рекурсивний виклик для лівої гілки\n",
    "        draw_pifagor_tree(0.7 * branch_len, level - 1)\n",
    "        turtle.right(45)\n",
    "\n",
    "        # Повернення назад\n",
    "        turtle.backward(branch_len)\n",
    "\n",
    "# Ініціалізація вікна та налаштування\n",
    "turtle.speed(0)  # Найшвидше візуалізуємо\n",
    "turtle.bgcolor(\"black\")\n",
    "turtle.color(\"green\")\n",
    "\n",
    "# Початкова позиція та кут\n",
    "turtle.left(90)\n",
    "turtle.up()\n",
    "turtle.backward(100)\n",
    "turtle.down()\n",
    "\n",
    "# Введення рівня рекурсії від користувача\n",
    "level = int(input(\"Введіть рівень рекурсії для фрактала дерево Піфагора: \"))\n",
    "\n",
    "# Виклик функції для малювання фрактала\n",
    "draw_pifagor_tree(100, level)\n",
    "\n",
    "# Завершення програми при кліку на вікно\n",
    "turtle.done()\n"
   ]
  },
  {
   "attachments": {
    "0e3f7bc6-b54e-4eb7-9d8b-4ee153da2827.png": {
     "image/png": "[encoded data removed]"
    }
   },
   "cell_type": "markdown",
   "id": "1a09483d-b14d-488e-92e3-5abda053ed8f",
   "metadata": {},
   "source": [
    "## Результат роботи при рівні рекурсії 8:\n",
    "\n",
    "![Screenshot from 2024-02-04 23-44-33.png](attachment:0e3f7bc6-b54e-4eb7-9d8b-4ee153da2827.png)"
   ]
  }
 ],
 "metadata": {
  "kernelspec": {
   "display_name": "Python 3 (ipykernel)",
   "language": "python",
   "name": "python3"
  },
  "language_info": {
   "codemirror_mode": {
    "name": "ipython",
    "version": 3
   },
   "file_extension": ".py",
   "mimetype": "text/x-python",
   "name": "python",
   "nbconvert_exporter": "python",
   "pygments_lexer": "ipython3",
   "version": "3.10.12"
  }
 },
 "nbformat": 4,
 "nbformat_minor": 5
}
