{
 "cells": [
  {
   "cell_type": "markdown",
   "id": "95155610-38ef-484f-b696-1dd52ff1af4b",
   "metadata": {},
   "source": [
    "# Завдання 3"
   ]
  },
  {
   "cell_type": "code",
   "execution_count": 1,
   "id": "0c9659ee-87c8-4a70-aac6-199529b83145",
   "metadata": {},
   "outputs": [
    {
     "name": "stdout",
     "output_type": "stream",
     "text": [
      "Найкоротші відстані від вершини A\n",
      "Вершина A: Відстань 0\n",
      "Вершина B: Відстань 1\n",
      "Вершина C: Відстань 3\n",
      "Вершина D: Відстань 4\n"
     ]
    }
   ],
   "source": [
    "import heapq\n",
    "\n",
    "def dijkstra(graph, start):\n",
    "    # Ініціалізація відстаней до всіх вершин як нескінченні, крім початкової\n",
    "    distances = {vertex: float('inf') for vertex in graph}\n",
    "    distances[start] = 0\n",
    "    \n",
    "    # Бінарна купа для зберігання вершин та їх відстаней\n",
    "    pq = [(0, start)]\n",
    "    \n",
    "    while pq:\n",
    "        # Вибір вершини з найменшою відстанню\n",
    "        current_distance, current_vertex = heapq.heappop(pq)\n",
    "        \n",
    "        # Якщо поточна відстань більша за збережену відстань, пропускаємо\n",
    "        if current_distance > distances[current_vertex]:\n",
    "            continue\n",
    "        \n",
    "        # Оновлення відстаней до всіх сусідніх вершин\n",
    "        for neighbor, weight in graph[current_vertex].items():\n",
    "            distance = current_distance + weight\n",
    "            # Якщо знайдено коротший шлях, оновлюємо відстань та додаємо вершину у купу\n",
    "            if distance < distances[neighbor]:\n",
    "                distances[neighbor] = distance\n",
    "                heapq.heappush(pq, (distance, neighbor))\n",
    "    \n",
    "    return distances\n",
    "\n",
    "# Приклад графа у форматі словника: вершина -> {сусід: вага}\n",
    "graph = {\n",
    "    'A': {'B': 1, 'C': 4},\n",
    "    'B': {'A': 1, 'C': 2, 'D': 5},\n",
    "    'C': {'A': 4, 'B': 2, 'D': 1},\n",
    "    'D': {'B': 5, 'C': 1}\n",
    "}\n",
    "\n",
    "# Початкова вершина\n",
    "start_vertex = 'A'\n",
    "\n",
    "# Виклик алгоритму Дейкстри\n",
    "shortest_distances = dijkstra(graph, start_vertex)\n",
    "\n",
    "# Вивід результатів\n",
    "print(\"Найкоротші відстані від вершини\", start_vertex)\n",
    "for vertex, distance in shortest_distances.items():\n",
    "    print(f\"Вершина {vertex}: Відстань {distance}\")\n"
   ]
  }
 ],
 "metadata": {
  "kernelspec": {
   "display_name": "Python 3 (ipykernel)",
   "language": "python",
   "name": "python3"
  },
  "language_info": {
   "codemirror_mode": {
    "name": "ipython",
    "version": 3
   },
   "file_extension": ".py",
   "mimetype": "text/x-python",
   "name": "python",
   "nbconvert_exporter": "python",
   "pygments_lexer": "ipython3",
   "version": "3.10.12"
  }
 },
 "nbformat": 4,
 "nbformat_minor": 5
}
